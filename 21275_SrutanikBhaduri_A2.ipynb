{
 "cells": [
  {
   "cell_type": "markdown",
   "id": "86d4772c",
   "metadata": {},
   "source": [
    "# Question 1\n"
   ]
  },
  {
   "cell_type": "code",
   "execution_count": 5,
   "id": "59b47732",
   "metadata": {},
   "outputs": [
    {
     "name": "stdout",
     "output_type": "stream",
     "text": [
      "0b1010100\n",
      "0x54\n",
      "0o124\n",
      "0b1100101\n",
      "0x65\n",
      "0o145\n",
      "-85\n",
      "-102\n",
      "0b10101\n",
      "0b110010100\n"
     ]
    }
   ],
   "source": [
    "def binary(num):\n",
    "    print(bin(num))\n",
    "\n",
    "def hexadecimal(num):\n",
    "    print(hex(num))\n",
    "    \n",
    "def octal(num):\n",
    "    print(oct(num))\n",
    "    \n",
    "num1 = 84\n",
    "num2 = 101\n",
    "    \n",
    "binary(num1)\n",
    "hexadecimal(num1)\n",
    "octal(num1)\n",
    "\n",
    "binary(num2)\n",
    "hexadecimal(num2)\n",
    "octal(num2)\n",
    "\n",
    "complement_num1 = ~num1\n",
    "complement_num2 = ~num2\n",
    "print(complement_num1)\n",
    "print(complement_num2)\n",
    "\n",
    "right_shift = num1>> 2\n",
    "print(bin(right_shift))\n",
    "\n",
    "left_shift = num2<< 2\n",
    "print(bin(left_shift))"
   ]
  },
  {
   "cell_type": "markdown",
   "id": "e5cb2412",
   "metadata": {},
   "source": [
    "# Question 2"
   ]
  },
  {
   "cell_type": "code",
   "execution_count": 3,
   "id": "e711bb35",
   "metadata": {},
   "outputs": [
    {
     "name": "stdout",
     "output_type": "stream",
     "text": [
      "1\n",
      "2\n",
      "4\n",
      "5\n",
      "7\n",
      "8\n",
      "10\n",
      "11\n",
      "13\n",
      "14\n",
      "16\n",
      "17\n",
      "19\n"
     ]
    }
   ],
   "source": [
    "for i in range (1,20):\n",
    "    if i%3 != 0:\n",
    "        print(i)"
   ]
  },
  {
   "cell_type": "markdown",
   "id": "2f1cd87a",
   "metadata": {},
   "source": [
    "# Question 3"
   ]
  },
  {
   "cell_type": "code",
   "execution_count": 5,
   "id": "c4d172be",
   "metadata": {},
   "outputs": [
    {
     "name": "stdout",
     "output_type": "stream",
     "text": [
      "Enter a number: 45\n",
      "Enter another number: 12\n",
      "a is greater than b\n",
      "\n",
      "\n",
      "a is greater than b\n",
      "\n",
      "\n",
      "a\n"
     ]
    }
   ],
   "source": [
    "a = int(input('Enter a number: '))\n",
    "b = int(input('Enter another number: '))\n",
    "\n",
    "#section1\n",
    "if b > a:\n",
    "  print(\"b is greater than a\")\n",
    "elif a == b:\n",
    "  print(\"a and b are equal\")\n",
    "else:\n",
    "  print(\"a is greater than b\")\n",
    "\n",
    "print('\\n');\n",
    "#section2\n",
    "if a > b: print(\"a is greater than b\")\n",
    "\n",
    "print('\\n');\n",
    "#section3\n",
    "print(\"a\") if a > b else print(\"=\") if a == b else print(\"b\")"
   ]
  },
  {
   "cell_type": "markdown",
   "id": "cef45234",
   "metadata": {},
   "source": [
    "# Question 4"
   ]
  },
  {
   "cell_type": "code",
   "execution_count": 24,
   "id": "20fd3e98",
   "metadata": {},
   "outputs": [
    {
     "name": "stdout",
     "output_type": "stream",
     "text": [
      "Hello World 20\n",
      "Hello World 19\n",
      "Hello World 18\n",
      "Hello World 17\n",
      "Hello World 16\n",
      "Hello World 15\n",
      "Hello World 14\n",
      "Hello World 13\n",
      "Hello World 12\n",
      "Hello World 11\n",
      "Hello World 10\n",
      "Hello World 9\n",
      "Hello World 8\n",
      "Hello World 7\n",
      "Hello World 6\n",
      "Hello World 5\n",
      "Hello World 4\n",
      "Hello World 3\n",
      "Hello World 2\n",
      "Hello World 1\n"
     ]
    }
   ],
   "source": [
    "i = 20\n",
    "while i>0:\n",
    "    print(\"Hello World \" + str(i))\n",
    "    i -= 1\n",
    "\n",
    "#we are starting with i = 20 as a starting value"
   ]
  },
  {
   "cell_type": "markdown",
   "id": "c15dbaf2",
   "metadata": {},
   "source": [
    "# Question 5"
   ]
  },
  {
   "cell_type": "code",
   "execution_count": 30,
   "id": "b0bc27f7",
   "metadata": {},
   "outputs": [
    {
     "name": "stdout",
     "output_type": "stream",
     "text": [
      "Enter account balance: 10000\n",
      "Enter amount to withdraw: 899\n",
      "New balance is : 9101.0\n"
     ]
    }
   ],
   "source": [
    "bal = float(input('Enter account balance: '))\n",
    "withdraw = float(input('Enter amount to withdraw: '))\n",
    "\n",
    "if withdraw > bal:\n",
    "    print('Insufficient funds')\n",
    "\n",
    "if withdraw <= bal:\n",
    "    print('New balance is : ' + str(bal-withdraw))"
   ]
  },
  {
   "cell_type": "markdown",
   "id": "7c560bca",
   "metadata": {},
   "source": [
    "# Question 6"
   ]
  },
  {
   "cell_type": "code",
   "execution_count": 1,
   "id": "dae62b4c",
   "metadata": {},
   "outputs": [
    {
     "name": "stdout",
     "output_type": "stream",
     "text": [
      "Welcome to the Math Quiz!\n",
      "What is 13 - 3? 10\n",
      "Correct!\n",
      "\n",
      "What is 1 + 4? 5\n",
      "Correct!\n",
      "\n",
      "Quiz finished! Your score is: 2/2\n",
      "\n",
      "Do you want to play again? (yes/no): no\n",
      "Thank you for playing!\n"
     ]
    }
   ],
   "source": [
    "import random\n",
    "\n",
    "def generate_problem():\n",
    "    num1 = random.randint(1, 20)\n",
    "    num2 = random.randint(1, 20)\n",
    "    operator = random.choice(['+', '-', '*'])\n",
    "    \n",
    "    if operator == '+':\n",
    "        solution = num1 + num2\n",
    "    elif operator == '-':\n",
    "        num1, num2 = max(num1, num2), min(num1, num2)  \n",
    "        solution = num1 - num2\n",
    "    else:\n",
    "        solution = num1 * num2\n",
    "    \n",
    "    problem = f\"What is {num1} {operator} {num2}?\"\n",
    "    \n",
    "    return problem, solution\n",
    "\n",
    "def math_quiz():\n",
    "    print(\"Welcome to the Math Quiz!\")\n",
    "    \n",
    "    while True:\n",
    "        num_questions = 2\n",
    "        score = 0\n",
    "        \n",
    "        for _ in range(num_questions):\n",
    "            problem, solution = generate_problem()\n",
    "            user_answer = input(problem + \" \")\n",
    "            \n",
    "            try:\n",
    "                user_answer = int(user_answer)\n",
    "            except ValueError:\n",
    "                print(\"Invalid input. Please enter a number.\")\n",
    "                continue\n",
    "            \n",
    "            if user_answer == solution:\n",
    "                print(\"Correct!\\n\")\n",
    "                score += 1\n",
    "            else:\n",
    "                print(f\"Wrong. The correct answer is {solution}.\\n\")\n",
    "        \n",
    "        print(f\"Quiz finished! Your score is: {score}/{num_questions}\\n\")\n",
    "        \n",
    "        play_again = input(\"Do you want to play again? (yes/no): \")\n",
    "        if play_again.lower() != 'yes':\n",
    "            print(\"Thank you for playing!\")\n",
    "            break\n",
    "\n",
    "\n",
    "math_quiz()\n",
    "\n"
   ]
  },
  {
   "cell_type": "markdown",
   "id": "e36a6053",
   "metadata": {},
   "source": [
    "# Question 7"
   ]
  },
  {
   "cell_type": "code",
   "execution_count": 6,
   "id": "1abff412",
   "metadata": {},
   "outputs": [
    {
     "name": "stdout",
     "output_type": "stream",
     "text": [
      "Enter a number: 88\n",
      "The square root of 88.0 is 9.380832\n"
     ]
    }
   ],
   "source": [
    "def newton_sqrt(number, iterations=100):\n",
    "    if number < 0:\n",
    "        raise ValueError(\"Cannot calculate square root of a negative number\")\n",
    "    \n",
    "    x = number / 2  \n",
    "    \n",
    "    for _ in range(iterations):\n",
    "        x = 0.5 * (x + number / x)\n",
    "    \n",
    "    return x\n",
    "\n",
    "num = float(input(\"Enter a number: \"))\n",
    "square_root = newton_sqrt(num)\n",
    "print(f\"The square root of {num} is {square_root:.6f}\")\n",
    "\n",
    "\n"
   ]
  },
  {
   "cell_type": "markdown",
   "id": "1152b45c",
   "metadata": {},
   "source": [
    "# Question 8"
   ]
  },
  {
   "cell_type": "code",
   "execution_count": 6,
   "id": "7cb8b504",
   "metadata": {},
   "outputs": [
    {
     "name": "stdout",
     "output_type": "stream",
     "text": [
      "Your choices are 1. Addition, 2. Subtraction, 3. Multiplication, 4. Division, 5. Exponentiation: Choose 1,2,3,4,5\n",
      "Enter your choice: 5\n",
      "Enter 1st number 3\n",
      "Enter 2nd number 4\n"
     ]
    },
    {
     "data": {
      "text/plain": [
       "81.0"
      ]
     },
     "execution_count": 6,
     "metadata": {},
     "output_type": "execute_result"
    }
   ],
   "source": [
    "def calculator():\n",
    "    \n",
    "    print('Your choices are 1. Addition, 2. Subtraction, 3. Multiplication, 4. Division, 5. Exponentiation: Choose 1,2,3,4,5')\n",
    "\n",
    "    \n",
    "    inp = int(input('Enter your choice: '))\n",
    "    inp1 = float(input('Enter 1st number '))\n",
    "    inp2 = float(input('Enter 2nd number '))\n",
    "    if inp == 1:\n",
    "          return inp1+inp2\n",
    "    elif inp == 2:\n",
    "          return inp1-inp2\n",
    "    elif inp == 3:\n",
    "          return inp1*inp2\n",
    "    elif inp == 4:\n",
    "          return inp1/inp2\n",
    "    elif inp == 5:\n",
    "          return inp1**inp2\n",
    "    else:\n",
    "          print(\"Enter valid choice!\")\n",
    "\n",
    "calculator()"
   ]
  },
  {
   "cell_type": "markdown",
   "id": "caa7363c",
   "metadata": {},
   "source": [
    "# Question 9"
   ]
  },
  {
   "cell_type": "code",
   "execution_count": 2,
   "id": "ca3dbca4",
   "metadata": {},
   "outputs": [
    {
     "name": "stdout",
     "output_type": "stream",
     "text": [
      "What is the capital of France?\n",
      "1. Paris\n",
      "2. Madrid\n",
      "3. Rome\n",
      "4. Berlin\n",
      "Enter your answer (1/2/3/4): 5\n",
      "Invalid input. Skipping this question.\n",
      "\n",
      "Which planet is known as the 'Red Planet'?\n",
      "1. Venus\n",
      "2. Mars\n",
      "3. Jupiter\n",
      "4. Saturn\n",
      "Enter your answer (1/2/3/4): 2\n",
      "Correct!\n",
      "\n",
      "What is the largest mammal?\n",
      "1. Elephant\n",
      "2. Blue Whale\n",
      "3. Giraffe\n",
      "4. Hippopotamus\n",
      "Enter your answer (1/2/3/4): 2\n",
      "Correct!\n",
      "\n",
      "Quiz finished! Your score is: 2/3\n"
     ]
    }
   ],
   "source": [
    "def run_quiz():\n",
    "    \n",
    "    \n",
    "    questions = [\n",
    "        {\n",
    "            \"question\": \"What is the capital of France?\",\n",
    "            \"options\": [\"Paris\", \"Madrid\", \"Rome\", \"Berlin\"],\n",
    "            \"correct_answer\": \"Paris\"\n",
    "        },\n",
    "        {\n",
    "            \"question\": \"Which planet is known as the 'Red Planet'?\",\n",
    "            \"options\": [\"Venus\", \"Mars\", \"Jupiter\", \"Saturn\"],\n",
    "            \"correct_answer\": \"Mars\"\n",
    "        },\n",
    "        {\n",
    "            \"question\": \"What is the largest mammal?\",\n",
    "            \"options\": [\"Elephant\", \"Blue Whale\", \"Giraffe\", \"Hippopotamus\"],\n",
    "            \"correct_answer\": \"Blue Whale\"\n",
    "        }\n",
    "        \n",
    "    ]\n",
    "    \n",
    "    total_questions = len(questions)\n",
    "    score = 0\n",
    "    \n",
    "    for q in questions:\n",
    "        print(q[\"question\"])\n",
    "        \n",
    "        for i, option in enumerate(q[\"options\"], start=1):\n",
    "            print(f\"{i}. {option}\")\n",
    "        \n",
    "        user_choice = input(\"Enter your answer (1/2/3/4): \")\n",
    "        try:\n",
    "            user_choice = int(user_choice) - 1\n",
    "            if q[\"options\"][user_choice] == q[\"correct_answer\"]:\n",
    "                print(\"Correct!\\n\")\n",
    "                score += 1\n",
    "            else:\n",
    "                print(f\"Wrong. The correct answer is: {q['correct_answer']}\\n\")\n",
    "        except (ValueError, IndexError):\n",
    "            print(\"Invalid input. Skipping this question.\\n\")\n",
    "    \n",
    "    print(f\"Quiz finished! Your score is: {score}/{total_questions}\")\n",
    "\n",
    "run_quiz()\n"
   ]
  },
  {
   "cell_type": "markdown",
   "id": "1058fb91",
   "metadata": {},
   "source": [
    "# Question 10"
   ]
  },
  {
   "cell_type": "code",
   "execution_count": 4,
   "id": "f72aa413",
   "metadata": {},
   "outputs": [
    {
     "name": "stdout",
     "output_type": "stream",
     "text": [
      "The unsorted list is:  [44, 78, 51, 10, 79, 30, 67, 84, 47, 73, 4, 31, 74, 66, 89, 50, 7, 40, 52, 64]\n",
      "The sorted list is:  [4, 7, 10, 30, 31, 40, 44, 47, 50, 51, 52, 64, 66, 67, 73, 74, 78, 79, 84, 89]\n"
     ]
    }
   ],
   "source": [
    "import random\n",
    "\n",
    "def bubble_sort(list1):  \n",
    "    has_swapped = True  \n",
    "  \n",
    "    while(has_swapped):  \n",
    "        has_swapped = False  \n",
    "        for i in range(len(list1) - 1):  \n",
    "            if list1[i] > list1[i+1]:  \n",
    "                list1[i], list1[i+1] = list1[i+1], list1[i]  \n",
    "                has_swapped = True  \n",
    "    return list1  \n",
    "  \n",
    "list1 = random.sample(range(1,100),20)\n",
    "print(\"The unsorted list is: \", list1) \n",
    "print(\"The sorted list is: \", bubble_sort(list1))\n",
    "\n"
   ]
  },
  {
   "cell_type": "markdown",
   "id": "ab1a86c0",
   "metadata": {},
   "source": [
    "# Question 11"
   ]
  },
  {
   "cell_type": "code",
   "execution_count": 1,
   "id": "f34fb510",
   "metadata": {},
   "outputs": [
    {
     "name": "stdout",
     "output_type": "stream",
     "text": [
      "enter your guess 88\n",
      "guess lower\n",
      "enter your guess 33\n",
      "guess lower\n",
      "enter your guess 27\n",
      "guess lower\n",
      "enter your guess 21\n",
      "guess lower\n",
      "enter your guess 6\n",
      "guess lower\n",
      "enter your guess 4\n",
      "guess higher\n",
      "enter your guess 5\n",
      "correct!\n"
     ]
    }
   ],
   "source": [
    "import random \n",
    "\n",
    "def number_guesser():\n",
    "    \n",
    "    x = random.randint(1,100)\n",
    "    while True:\n",
    "        try:\n",
    "            inp = int(input('enter your guess ')) \n",
    "            if inp > x:\n",
    "                print(\"guess lower\")\n",
    "            elif inp < x:\n",
    "                print(\"guess higher\")\n",
    "            elif inp == x:\n",
    "                print('correct!')\n",
    "                break\n",
    "        except ValueError:\n",
    "            print(\"Invalid input. Please enter a valid number.\")\n",
    "\n",
    "       \n",
    "number_guesser()"
   ]
  },
  {
   "cell_type": "code",
   "execution_count": null,
   "id": "22f31d40",
   "metadata": {},
   "outputs": [],
   "source": []
  }
 ],
 "metadata": {
  "kernelspec": {
   "display_name": "Python 3 (ipykernel)",
   "language": "python",
   "name": "python3"
  },
  "language_info": {
   "codemirror_mode": {
    "name": "ipython",
    "version": 3
   },
   "file_extension": ".py",
   "mimetype": "text/x-python",
   "name": "python",
   "nbconvert_exporter": "python",
   "pygments_lexer": "ipython3",
   "version": "3.11.4"
  }
 },
 "nbformat": 4,
 "nbformat_minor": 5
}
