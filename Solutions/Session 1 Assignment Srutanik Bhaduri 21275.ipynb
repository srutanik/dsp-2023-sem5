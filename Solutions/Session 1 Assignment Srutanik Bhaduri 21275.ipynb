{
 "cells": [
  {
   "cell_type": "markdown",
   "id": "4bb62b43",
   "metadata": {},
   "source": [
    "# Question 1\n"
   ]
  },
  {
   "cell_type": "code",
   "execution_count": 13,
   "id": "0d9e75b5",
   "metadata": {},
   "outputs": [
    {
     "name": "stdout",
     "output_type": "stream",
     "text": [
      "2\n",
      "4\n",
      "6\n",
      "8\n",
      "10\n",
      "12\n",
      "14\n",
      "16\n",
      "18\n",
      "20\n",
      "22\n",
      "24\n",
      "26\n",
      "28\n",
      "30\n",
      "32\n",
      "34\n",
      "36\n",
      "38\n",
      "40\n",
      "42\n",
      "44\n",
      "46\n",
      "48\n",
      "50\n",
      "52\n",
      "54\n",
      "56\n",
      "58\n",
      "60\n",
      "62\n",
      "64\n",
      "66\n",
      "68\n",
      "70\n",
      "72\n",
      "74\n",
      "76\n",
      "78\n",
      "80\n",
      "82\n",
      "84\n",
      "86\n",
      "88\n",
      "90\n",
      "92\n",
      "94\n",
      "96\n",
      "98\n"
     ]
    }
   ],
   "source": [
    "for i in range(1,100):\n",
    "    if i%2 == 0:\n",
    "        print(i)"
   ]
  },
  {
   "cell_type": "markdown",
   "id": "8afb7848",
   "metadata": {},
   "source": [
    "# Question 2\n"
   ]
  },
  {
   "cell_type": "code",
   "execution_count": 21,
   "id": "f60e07fa",
   "metadata": {},
   "outputs": [],
   "source": [
    "a = 8 \n",
    "b = 9.5748 \n",
    "c = 'Go!' \n",
    "d = True\n",
    "e = [3, 'Oppenheimer'] \n",
    "f = {9,8,100}\n",
    "g= {'India' : 7184, 'Russia' : 7849, 'Canada' : 7435}\n"
   ]
  },
  {
   "cell_type": "code",
   "execution_count": 25,
   "id": "17cb12f1",
   "metadata": {},
   "outputs": [
    {
     "name": "stdout",
     "output_type": "stream",
     "text": [
      "<class 'int'>\n",
      "<class 'float'>\n",
      "<class 'str'>\n",
      "<class 'bool'>\n",
      "<class 'list'>\n",
      "<class 'set'>\n",
      "<class 'dict'>\n"
     ]
    }
   ],
   "source": [
    "print(type(a))\n",
    "print(type(b))\n",
    "print(type(c))\n",
    "print(type(d))\n",
    "print(type(e))\n",
    "print(type(f))\n",
    "print(type(g))"
   ]
  },
  {
   "cell_type": "markdown",
   "id": "ba0d4d31",
   "metadata": {},
   "source": [
    "# Question 3"
   ]
  },
  {
   "cell_type": "code",
   "execution_count": 45,
   "id": "467ce50b",
   "metadata": {},
   "outputs": [
    {
     "name": "stdout",
     "output_type": "stream",
     "text": [
      "[1, 2, 3, 4, 5, 6, 7, 0, 9, 10]\n",
      "[1, 2, 3, 4, 5, 6, 7, 0, 9, 10, 20, 100, 1000]\n"
     ]
    }
   ],
   "source": [
    "x = [1,2,3,1,1,2,2,4,5,6,7,7,2,1,0,9,10]\n",
    "y = []\n",
    "for i in x:\n",
    "    if i not in y:\n",
    "        y.append(i)\n",
    "print(y)\n",
    "z = [20,100,1000]\n",
    "\n",
    "for i in z:\n",
    "    y.append(i)\n",
    "print(y)\n"
   ]
  },
  {
   "cell_type": "code",
   "execution_count": 47,
   "id": "89b72a3a",
   "metadata": {},
   "outputs": [
    {
     "name": "stdout",
     "output_type": "stream",
     "text": [
      "[   1    2    3    4    5    7    0    9   10  100 1000]\n"
     ]
    }
   ],
   "source": [
    "import numpy as np\n",
    "p = np.array(y)\n",
    "delete = [5,10]\n",
    "o = np.delete(p, delete)\n",
    "print(o)"
   ]
  },
  {
   "cell_type": "code",
   "execution_count": 48,
   "id": "dfb60576",
   "metadata": {},
   "outputs": [
    {
     "name": "stdout",
     "output_type": "stream",
     "text": [
      "[   0    1    2    3    4    5    7    9   10  100 1000]\n"
     ]
    }
   ],
   "source": [
    "print(np.sort(o))"
   ]
  },
  {
   "cell_type": "markdown",
   "id": "a8c06599",
   "metadata": {},
   "source": [
    "# Question 4\n"
   ]
  },
  {
   "cell_type": "code",
   "execution_count": 52,
   "id": "bc1b02a8",
   "metadata": {},
   "outputs": [],
   "source": [
    "def is_prime(n):\n",
    "    if n <=1:\n",
    "        return False\n",
    "    for i in range(2,n):\n",
    "            if n%i == 0:\n",
    "                return False\n",
    "    else:\n",
    "        return True\n",
    "            \n"
   ]
  },
  {
   "cell_type": "code",
   "execution_count": 57,
   "id": "57adc8d8",
   "metadata": {},
   "outputs": [
    {
     "name": "stdout",
     "output_type": "stream",
     "text": [
      "Enter an integer less than 1000 -> 88\n"
     ]
    },
    {
     "data": {
      "text/plain": [
       "False"
      ]
     },
     "execution_count": 57,
     "metadata": {},
     "output_type": "execute_result"
    }
   ],
   "source": [
    "inp = int(input('Enter an integer less than 1000 -> '))\n",
    "is_prime(inp)"
   ]
  },
  {
   "cell_type": "markdown",
   "id": "38667f55",
   "metadata": {},
   "source": [
    "# Question 5\n"
   ]
  },
  {
   "cell_type": "markdown",
   "id": "84aa390f",
   "metadata": {},
   "source": [
    "### Creating and Inserting Data in Directory"
   ]
  },
  {
   "cell_type": "code",
   "execution_count": 71,
   "id": "6c2b4508",
   "metadata": {},
   "outputs": [
    {
     "data": {
      "text/plain": [
       "{'Amit': '9335717017',\n",
       " 'Darshit': '7357196782',\n",
       " 'Rohan': '8896417563',\n",
       " 'Isha': '9418755876',\n",
       " 'Anjali': '6397422753'}"
      ]
     },
     "execution_count": 71,
     "metadata": {},
     "output_type": "execute_result"
    }
   ],
   "source": [
    "def insert(directory,a,b):\n",
    "    directory[a]=b\n",
    "    return directory\n",
    "    \n",
    "def delete(directory,a):\n",
    "    if a not in directory:\n",
    "        return directory\n",
    "    directory.pop(a)\n",
    "    return directory\n",
    "\n",
    "phone_directory = {}\n",
    "\n",
    "insert(phone_directory,\"Amit\",\"9335717017\")\n",
    "insert(phone_directory,\"Darshit\",\"7357196782\")\n",
    "insert(phone_directory,\"Rohan\",\"8896417563\")\n",
    "insert(phone_directory,\"Isha\",\"9418755876\")\n",
    "insert(phone_directory,\"Anjali\",\"6397422753\")\n",
    "\n",
    "\n",
    "\n",
    "    \n",
    "    "
   ]
  },
  {
   "cell_type": "markdown",
   "id": "2ff91604",
   "metadata": {},
   "source": [
    "### Deleting Data in Directory"
   ]
  },
  {
   "cell_type": "code",
   "execution_count": 67,
   "id": "13c39567",
   "metadata": {},
   "outputs": [
    {
     "data": {
      "text/plain": [
       "{'Amit': '9335717017',\n",
       " 'Rohan': '9638875219',\n",
       " 'Isha': '9418755876',\n",
       " 'Anjali': '6397422753'}"
      ]
     },
     "execution_count": 67,
     "metadata": {},
     "output_type": "execute_result"
    }
   ],
   "source": [
    "delete(phone_directory,\"Darshit\")"
   ]
  },
  {
   "cell_type": "code",
   "execution_count": 70,
   "id": "a52d0fc5",
   "metadata": {},
   "outputs": [
    {
     "data": {
      "text/plain": [
       "{'Amit': '9335717017',\n",
       " 'Darshit': '7357196782',\n",
       " 'Rohan': '9638875219',\n",
       " 'Isha': '9418755876',\n",
       " 'Anjali': '6397422753'}"
      ]
     },
     "execution_count": 70,
     "metadata": {},
     "output_type": "execute_result"
    }
   ],
   "source": [
    "delete(phone_directory,\"Vishal\")"
   ]
  },
  {
   "cell_type": "markdown",
   "id": "39cb95c5",
   "metadata": {},
   "source": [
    "### Dynamic Updation of Key Values\n"
   ]
  },
  {
   "cell_type": "code",
   "execution_count": 72,
   "id": "3e6a5992",
   "metadata": {},
   "outputs": [
    {
     "data": {
      "text/plain": [
       "{'Amit': '9335717017',\n",
       " 'Darshit': '7357196782',\n",
       " 'Rohan': '9638875219',\n",
       " 'Isha': '9418755876',\n",
       " 'Anjali': '6397422753'}"
      ]
     },
     "execution_count": 72,
     "metadata": {},
     "output_type": "execute_result"
    }
   ],
   "source": [
    "insert(phone_directory,\"Rohan\",\"9638875219\")"
   ]
  },
  {
   "cell_type": "code",
   "execution_count": 73,
   "id": "bbe150e6",
   "metadata": {},
   "outputs": [
    {
     "data": {
      "text/plain": [
       "{'Amit': '9335717017',\n",
       " 'Darshit': '7357196782',\n",
       " 'Rohan': '9638875219',\n",
       " 'Isha': '9418755876',\n",
       " 'Anjali': '6397422753',\n",
       " 'Saumya': '8896416622'}"
      ]
     },
     "execution_count": 73,
     "metadata": {},
     "output_type": "execute_result"
    }
   ],
   "source": [
    "insert(phone_directory,\"Saumya\",\"8896416622\")"
   ]
  },
  {
   "cell_type": "markdown",
   "id": "aa68ef1c",
   "metadata": {},
   "source": [
    "# Question 6\n"
   ]
  },
  {
   "cell_type": "code",
   "execution_count": 75,
   "id": "20bb1711",
   "metadata": {},
   "outputs": [
    {
     "name": "stdout",
     "output_type": "stream",
     "text": [
      "Enter random value 66\n",
      "Enter random value 77\n",
      "Enter random value 88\n",
      "143\n",
      "-11\n"
     ]
    }
   ],
   "source": [
    "a = int(input('Enter random value '))\n",
    "b = int(input('Enter random value '))\n",
    "c = int(input('Enter random value '))\n",
    "d = a+b\n",
    "e = b-c\n",
    "print(d)\n",
    "print(e)"
   ]
  },
  {
   "cell_type": "code",
   "execution_count": 76,
   "id": "8407a588",
   "metadata": {},
   "outputs": [
    {
     "name": "stdout",
     "output_type": "stream",
     "text": [
      "True\n"
     ]
    }
   ],
   "source": [
    "print(d>=e)"
   ]
  },
  {
   "cell_type": "code",
   "execution_count": 77,
   "id": "3da1ee20",
   "metadata": {},
   "outputs": [
    {
     "name": "stdout",
     "output_type": "stream",
     "text": [
      "True\n"
     ]
    }
   ],
   "source": [
    "print(d!=e)"
   ]
  },
  {
   "cell_type": "code",
   "execution_count": 78,
   "id": "c2b42653",
   "metadata": {},
   "outputs": [
    {
     "name": "stdout",
     "output_type": "stream",
     "text": [
      "True\n"
     ]
    }
   ],
   "source": [
    "print(e<=d)"
   ]
  },
  {
   "cell_type": "code",
   "execution_count": 79,
   "id": "8bf0838c",
   "metadata": {},
   "outputs": [
    {
     "name": "stdout",
     "output_type": "stream",
     "text": [
      "False\n"
     ]
    }
   ],
   "source": [
    "print(e==d)"
   ]
  },
  {
   "cell_type": "markdown",
   "id": "8891a1ae",
   "metadata": {},
   "source": [
    "# Question 7"
   ]
  },
  {
   "cell_type": "code",
   "execution_count": 80,
   "id": "3223f586",
   "metadata": {},
   "outputs": [],
   "source": [
    "def binary(num):\n",
    "    print(bin(num))\n",
    "\n",
    "def hexadecimal(num):\n",
    "    print(hex(num))\n",
    "    \n",
    "def octal(num):\n",
    "    print(oct(num))"
   ]
  },
  {
   "cell_type": "code",
   "execution_count": 84,
   "id": "35d54d3e",
   "metadata": {},
   "outputs": [
    {
     "name": "stdout",
     "output_type": "stream",
     "text": [
      "0b1010100\n",
      "0x54\n",
      "0o124\n"
     ]
    }
   ],
   "source": [
    "binary(84)\n",
    "hexadecimal(84)\n",
    "octal(84)"
   ]
  },
  {
   "cell_type": "code",
   "execution_count": 85,
   "id": "5268d562",
   "metadata": {},
   "outputs": [
    {
     "name": "stdout",
     "output_type": "stream",
     "text": [
      "0b1100101\n",
      "0x65\n",
      "0o145\n"
     ]
    }
   ],
   "source": [
    "binary(101)\n",
    "hexadecimal(101)\n",
    "octal(101)\n"
   ]
  },
  {
   "cell_type": "code",
   "execution_count": 92,
   "id": "f36d9dd8",
   "metadata": {},
   "outputs": [
    {
     "name": "stdout",
     "output_type": "stream",
     "text": [
      "0b1010\n"
     ]
    }
   ],
   "source": [
    "num_1 = 84\n",
    "right_shift = num >> 2\n",
    "print(bin(right_shift))"
   ]
  },
  {
   "cell_type": "code",
   "execution_count": 93,
   "id": "ebcca890",
   "metadata": {},
   "outputs": [
    {
     "name": "stdout",
     "output_type": "stream",
     "text": [
      "0b10101000\n"
     ]
    }
   ],
   "source": [
    "num_2 = 101\n",
    "left_shift = num << 2\n",
    "print(bin(left_shift))"
   ]
  },
  {
   "cell_type": "code",
   "execution_count": 94,
   "id": "b5b673d6",
   "metadata": {},
   "outputs": [
    {
     "name": "stdout",
     "output_type": "stream",
     "text": [
      "0b10101010\n"
     ]
    }
   ],
   "source": [
    "##bitwise or operation\n",
    "or_op = right_shift | left_shift\n",
    "print(bin(or_op))"
   ]
  },
  {
   "cell_type": "code",
   "execution_count": 95,
   "id": "e31f0de2",
   "metadata": {},
   "outputs": [
    {
     "name": "stdout",
     "output_type": "stream",
     "text": [
      "0b1000\n"
     ]
    }
   ],
   "source": [
    "##bitwise and operation\n",
    "and_op = right_shift & left_shift\n",
    "print(bin(and_op))"
   ]
  },
  {
   "cell_type": "markdown",
   "id": "5f94a195",
   "metadata": {},
   "source": [
    "# Question 8"
   ]
  },
  {
   "cell_type": "code",
   "execution_count": 96,
   "id": "f0422f6e",
   "metadata": {},
   "outputs": [
    {
     "name": "stdout",
     "output_type": "stream",
     "text": [
      "3\n"
     ]
    }
   ],
   "source": [
    "##Part A\n",
    "a = (2,5,5,3,2,5)\n",
    "j = 0\n",
    "for i in a:\n",
    "    if i == 5:\n",
    "        j+=1\n",
    "print(j)"
   ]
  },
  {
   "cell_type": "code",
   "execution_count": 97,
   "id": "8275e2c4",
   "metadata": {},
   "outputs": [
    {
     "name": "stdout",
     "output_type": "stream",
     "text": [
      "('orange', 'apples', 7, 8, 'orange', 'apples', 7, 8, 'orange', 'apples', 7, 8)\n"
     ]
    }
   ],
   "source": [
    "##Part B\n",
    "b = ('orange', 'apples', 7 ,8)\n",
    "print(b*3)"
   ]
  },
  {
   "cell_type": "code",
   "execution_count": 101,
   "id": "535ca196",
   "metadata": {},
   "outputs": [],
   "source": [
    "##Part C\n",
    "nums = (4,9)\n",
    "x,y = nums\n",
    "nums = y,x"
   ]
  },
  {
   "cell_type": "code",
   "execution_count": 102,
   "id": "7e621191",
   "metadata": {},
   "outputs": [
    {
     "name": "stdout",
     "output_type": "stream",
     "text": [
      "(9, 4)\n"
     ]
    }
   ],
   "source": [
    "print(nums)"
   ]
  },
  {
   "cell_type": "code",
   "execution_count": null,
   "id": "646ef038",
   "metadata": {},
   "outputs": [],
   "source": []
  }
 ],
 "metadata": {
  "kernelspec": {
   "display_name": "Python 3 (ipykernel)",
   "language": "python",
   "name": "python3"
  },
  "language_info": {
   "codemirror_mode": {
    "name": "ipython",
    "version": 3
   },
   "file_extension": ".py",
   "mimetype": "text/x-python",
   "name": "python",
   "nbconvert_exporter": "python",
   "pygments_lexer": "ipython3",
   "version": "3.11.4"
  }
 },
 "nbformat": 4,
 "nbformat_minor": 5
}
