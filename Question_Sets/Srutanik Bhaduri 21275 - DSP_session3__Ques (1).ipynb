{
  "nbformat": 4,
  "nbformat_minor": 0,
  "metadata": {
    "colab": {
      "provenance": []
    },
    "kernelspec": {
      "name": "python3",
      "display_name": "Python 3"
    },
    "language_info": {
      "name": "python"
    }
  },
  "cells": [
    {
      "cell_type": "markdown",
      "source": [
        "# Exercise: Hello\n",
        "Write a hello function\n",
        "\n",
        "*   Ask the user to enter the name\n",
        "*   Ask the user to enter how many times the name to be printed\n",
        "*  Use a for loop to print that many number of times the name.\n",
        "\n",
        "\n",
        "\n",
        "\n",
        "\n"
      ],
      "metadata": {
        "id": "rEGFLx-YeQjf"
      }
    },
    {
      "cell_type": "code",
      "execution_count": null,
      "metadata": {
        "id": "nhmLU_SbdxnN"
      },
      "outputs": [],
      "source": [
        "# Write your Code here:\n",
        "\n",
        "\n",
        "\n"
      ]
    },
    {
      "cell_type": "markdown",
      "source": [
        "\n",
        "\n",
        "# Exercise: For Loops with Break, Continue, and Pass\n",
        "\n",
        "1. Write a function, `loop_break`, which will allow you to demonstrate the use of the `break` statement in a `for` loop.\n",
        "2. The function should take as input a list of numbers and a target number.\n",
        "3. Use a `for` loop to iterate over the numbers in the list.\n",
        "4. If the current number is equal to the target number, print a message and break out of the loop.\n",
        "5. Write another function, `loop_continue`, which will allow you to demonstrate the use of the `continue` statement in a `for` loop.\n",
        "6. The function should take as input a list of numbers and a target number.\n",
        "7. Use a `for` loop to iterate over the numbers in the list.\n",
        "8. If the current number is equal to the target number, skip it using the `continue` statement.\n",
        "9. Write another function, `loop_pass`, which will allow you to demonstrate the use of the `pass` statement in a `for` loop.\n",
        "10. The function should take as input a list of numbers and a target number.\n",
        "11. Use a `for` loop to iterate over the numbers in the list.\n",
        "12. If the current number is equal to the target number, do nothing using the `pass` statement.\n",
        "\n",
        "Example:\n",
        "\n",
        "```python\n",
        "\n",
        "numbers = [1, 2, 3, 4, 5]\n",
        "target = 3\n",
        "\n",
        "loop_break(numbers, target)     # Target 3 found!\n",
        "loop_continue(numbers, target)  # 1 2 4 5\n",
        "loop_pass(numbers, target)      # 1 2 3 4 5\n",
        "```\n",
        "\n",
        " The `loop_break` function takes as input a list of numbers and a target number. It uses a `for` loop to iterate over the numbers in the list and checks if each number is equal to the target number. If it is, it prints a message and breaks out of the loop using the `break` statement.\n",
        "\n",
        "The `loop_continue` function is similar, but instead of breaking out of the loop when it finds the target number, it skips it using the `continue` statement.\n",
        "\n",
        "The `loop_pass` function also takes as input a list of numbers and a target number. It uses a `for` loop to iterate over the numbers in the list and checks if each number is equal to the target number. If it is, it does nothing using the `pass` statement.\n",
        "\n"
      ],
      "metadata": {
        "id": "s4pACxlTWaM8"
      }
    },
    {
      "cell_type": "code",
      "source": [
        "def loop_break(numbers, target):\n",
        "    # Complete your code here\n",
        "\n",
        "\n",
        "\n",
        "\n",
        "\n",
        "def loop_continue(numbers, target):\n",
        "    # Complete your code here\n",
        "\n",
        "\n",
        "    #\n",
        "\n",
        "def loop_pass(numbers, target):\n",
        "    # Complete your code here\n",
        "\n",
        "\n"
      ],
      "metadata": {
        "id": "ITrTDWoKWZt4"
      },
      "execution_count": null,
      "outputs": []
    },
    {
      "cell_type": "markdown",
      "source": [],
      "metadata": {
        "id": "HAOy-M87qwKp"
      }
    },
    {
      "cell_type": "markdown",
      "source": [
        "\n",
        "\n",
        "# Exercise: List Comprehensions\n",
        "\n",
        "1. Write a list comprehension that generates a list of the first ten even numbers.\n",
        "2. Write a list comprehension that generates a list of the first ten odd numbers.\n",
        "3. Write a list comprehension that generates a list of the first ten prime numbers.\n",
        "4. Write a list comprehension that generates a list of the first ten Fibonacci numbers.\n",
        "5. Lucas numbers, which are similar to the Fibonacci numbers but start with 2 and 1 instead of 0 and 1. Write a list comprehension that generates a list of the first ten Lucas numbers.\n",
        "6. Pell numbers, which are defined by the recurrence relation `P(n) = 2*P(n-1) + P(n-2)` with seed values `P(0) = 0` and `P(1) = 1`.  Write a list comprehension that generates a list of the first ten Lucas numbers\n",
        "7. Implement lambda function anywhere in these exercises to make your codes effcient\n",
        "\n",
        "\n",
        "Example:\n",
        "\n",
        "```python\n",
        "squares = [x**2 for x in range(1, 11)]\n",
        "print(squares)  # [1, 4, 9, 16, 25, 36, 49, 64, 81, 100]\n",
        "\n",
        "```\n",
        "\n",
        "\n"
      ],
      "metadata": {
        "id": "yMfTojoDo9_d"
      }
    },
    {
      "cell_type": "code",
      "source": [
        "# write your code here"
      ],
      "metadata": {
        "id": "h54Mtz5Oq3vF"
      },
      "execution_count": null,
      "outputs": []
    },
    {
      "cell_type": "markdown",
      "source": [
        "\n",
        "# Exercise: Multiplication Tables\n",
        "\n",
        "1. Write a function, `print_multiplication_table`, which will allow you to print a multiplication table for a given number.\n",
        "2. The function should take as input a number and the number of rows to print.\n",
        "3. Use a `for` loop with the `range` function to iterate over the rows of the multiplication table.\n",
        "4. For each row, calculate the product of the input number and the current row number, and print the result.\n",
        "\n",
        "Example:\n",
        "\n",
        "```python\n",
        "print_multiplication_table(5, 10)\n",
        "```\n",
        "\n",
        "Define a function `print_multiplication_table` that takes as input a number and the number of rows to print. The function uses a `for` loop with the `range` function to iterate over the rows of the multiplication table. For each row, it calculates the product of the input number and the current row number, and prints the result using an f-string.\n",
        "\n",
        "When we call this function with arguments `5` and `10`, it prints the multiplication table for the number 5 with 10 rows:\n",
        "\n",
        "```\n",
        "5 x 1 = 5\n",
        "5 x 2 = 10\n",
        "5 x 3 = 15\n",
        "5 x 4 = 20\n",
        "5 x 5 = 25\n",
        "5 x 6 = 30\n",
        "5 x 7 = 35\n",
        "5 x 8 = 40\n",
        "5 x 9 = 45\n",
        "5 x 10 = 50\n",
        "```\n"
      ],
      "metadata": {
        "id": "6wHfMaZEvfl8"
      }
    },
    {
      "cell_type": "code",
      "source": [
        "# write your code here:\n",
        "\n",
        "\n",
        "\n",
        "# print_multiplication_table(5, 10)\n"
      ],
      "metadata": {
        "id": "aVStpnv7vmFu"
      },
      "execution_count": null,
      "outputs": []
    },
    {
      "cell_type": "markdown",
      "source": [
        "# Exercise: Calculator\n",
        "\n",
        "1. Write a function, `calc`, which will allow us to perform some simple calculations.\n",
        "2. Ask the user to enter a math expression in one line (e.g., `'2 + 2'`).\n",
        "3. Use `str.split` to break that input into a list of three elements. (Let's assume that the user enters a valid string, with numbers and an operator between them.)\n",
        "4. If the user entered `+`, print the result of adding the numbers.\n",
        "5. If the user entered `-`, print the result of subtracting the numbers.\n",
        "\n",
        "Example:\n",
        "\n",
        "    calc()\n",
        "\n",
        "    Enter an expression: 10 + 8\n",
        "    10 + 8 = 18    \n",
        "\n",
        "Hints/reminders:\n",
        "1. Any string can be split on whitespace with `s.split()` -- no argument means that we'll split on any whitespace, of any length.\n",
        "2. Remember that the result of `str.split` is a list of strings.\n",
        "3. If you need to turn a string into an integer, use `int`."
      ],
      "metadata": {
        "id": "AHsayHaWfrKF"
      }
    },
    {
      "cell_type": "code",
      "source": [
        "# write your code here:\n",
        "\n"
      ],
      "metadata": {
        "id": "XpVkMeilfqb-"
      },
      "execution_count": null,
      "outputs": []
    },
    {
      "cell_type": "markdown",
      "source": [
        "\n",
        "\n",
        "# Exercise: Matrix Multiplication\n",
        "\n",
        "1. Write a function, `matrix_multiplication`, which will allow you to multiply two matrices.\n",
        "2. The function should take as input two matrices represented as lists of lists, where each inner list represents a row of the matrix.\n",
        "3. Use nested `for` loops to iterate over the rows and columns of the resulting matrix.\n",
        "4. For each element in the resulting matrix, calculate its value by taking the dot product of the corresponding row in the first matrix and the corresponding column in the second matrix.\n",
        "5. Return the resulting matrix as a list of lists.\n",
        "\n",
        "Example:\n",
        "\n",
        "```python\n",
        "a = [[1, 2], [3, 4]]\n",
        "b = [[5, 6], [7, 8]]\n",
        "print(matrix_multiplication(a, b))  # [[19, 22], [43, 50]]\n",
        "```\n",
        "\n",
        "\n",
        "\n",
        "When we call this function with two matrices `a` and `b`, it returns their product as a new matrix:\n",
        "\n",
        "```\n",
        "[[1, 2],   [[5, 6],   [[19, 22],\n",
        " [3, 4]] *  [7, 8]] =  [43, 50]]\n",
        "```\n",
        "\n"
      ],
      "metadata": {
        "id": "DhNm-MeayZ-7"
      }
    },
    {
      "cell_type": "code",
      "source": [
        "# write your code here:\n",
        "\n",
        "\n",
        "\n",
        "\n"
      ],
      "metadata": {
        "id": "NtzETv-nyg1P"
      },
      "execution_count": null,
      "outputs": []
    },
    {
      "cell_type": "markdown",
      "source": [
        "# Exercise: Invert Module\n",
        "Open the text editor on your local machine and copy the following code into the editor and save it as invert_string.py\n",
        "\n",
        "```python\n",
        "# invert_string.py\n",
        "\n",
        "def invert(s):\n",
        "    if not isinstance(s, str):\n",
        "        raise TypeError('Input must be a string')\n",
        "    return s[::-1]\n",
        "```"
      ],
      "metadata": {
        "id": "FTadvipZeVj3"
      }
    },
    {
      "cell_type": "markdown",
      "source": [
        "### Run the code block below and upload the file here.\n",
        "\n"
      ],
      "metadata": {
        "id": "8kAUmmGBjPLm"
      }
    },
    {
      "cell_type": "code",
      "source": [
        "from google.colab import files\n",
        "files.upload()\n"
      ],
      "metadata": {
        "id": "TRxvfTdmjWrm"
      },
      "execution_count": null,
      "outputs": []
    },
    {
      "cell_type": "markdown",
      "source": [
        "### Now import the module and test it"
      ],
      "metadata": {
        "id": "DcI-HvCQjXnL"
      }
    },
    {
      "cell_type": "code",
      "source": [
        "from invert_string import invert\n",
        "\n",
        "\n",
        "print(invert('hello'))  # 'olleh'\n",
        "print(invert(123))      # TypeError: Input must be a string"
      ],
      "metadata": {
        "id": "ojsPCHIjjaCU"
      },
      "execution_count": null,
      "outputs": []
    },
    {
      "cell_type": "markdown",
      "source": [
        "\n",
        "\n",
        "1.   Define function `is_palindrome` that takes as input a string and returns `True` if it is a palindrome (i.e., if it reads the same backward as forward) and `False` otherwise.\n",
        "** Hint- It uses the `invert` function from the `invert_string` module to check if the input string is equal to its inverted version.\n",
        "\n",
        "2.   Input ten strings from the user, and check using the `is_palindrome` function. If the input string is not a palindrome, we skip it, and do not add it to the list of strings.\n",
        "\n",
        "3.  Print the list of palindromes\n",
        "\n",
        "Sample output:\n",
        "\n",
        "```\n",
        "Enter string 1: racecar\n",
        "Enter string 2: level\n",
        "Enter string 3: rotor\n",
        "Enter string 4: civic\n",
        "Enter string 5: kayak\n",
        "Enter string 6: madam\n",
        "Enter string 7: refer\n",
        "Enter string 8: stats\n",
        "Enter string 9: solos\n",
        "Enter string 10: tenet\n",
        "['racecar', 'level', 'rotor', 'civic', 'kayak', 'madam', 'refer', 'stats', 'solos', 'tenet']\n",
        "```\n",
        "\n"
      ],
      "metadata": {
        "id": "vHminEv_j_qh"
      }
    },
    {
      "cell_type": "code",
      "source": [
        "# Write your code here\n",
        "\n",
        "\n"
      ],
      "metadata": {
        "id": "C_CiZYFbrRs_"
      },
      "execution_count": null,
      "outputs": []
    },
    {
      "cell_type": "markdown",
      "metadata": {
        "id": "860c961e"
      },
      "source": [
        "# Exercise: Fibonacci sequence\n",
        "\n",
        "You work in an IT firm, and your colleague has realized that being able to quickly compute elements of the Fibonacci sequence will reduce the time taken to execute the testing suite on one of your internal applications. You will use an iterative approach to create a fibonacci_iterative function that returns the nth value in the Fibonacci sequence.\n",
        "\n",
        "Define a fibonacci_iterative function that takes a single positional argument representing which number term in the sequence you want to return."
      ]
    },
    {
      "cell_type": "markdown",
      "metadata": {
        "id": "3e77dc5c"
      },
      "source": [
        "The Fibonacci Sequence is the series of numbers:\n",
        "\n",
        "0, 1, 1, 2, 3, 5, 8, 13, 21, 34, ...\n",
        "\n",
        "The next number is found by adding up the two numbers before it:\n",
        "\n",
        "- the 2 is found by adding the two numbers before it (1+1),\n",
        "- the 3 is found by adding the two numbers before it (1+2),\n",
        "- the 5 is (2+3),\n",
        "- and so on!"
      ]
    },
    {
      "cell_type": "code",
      "source": [
        "# write your code here:\n",
        "\n",
        "\n",
        "\n",
        "\n",
        "# print(fibonacci(int(n)))"
      ],
      "metadata": {
        "id": "PtrqxqlLvGGx"
      },
      "execution_count": null,
      "outputs": []
    },
    {
      "cell_type": "markdown",
      "source": [
        "\n",
        "\n",
        "# Exercise: Character Frequency\n",
        "\n",
        "1. Write a function, `vowel_frequency`, which will allow you to find the frequency of vowels in a text snippet.\n",
        "2. The function should take as input a text snippet and return a dictionary with the frequency of each vowel.\n",
        "3. Use a `for` loop to iterate over the characters in the text snippet.\n",
        "4. If a character is a vowel, increment its count in the dictionary.\n",
        "5. Write another function, `char_frequency`, which will allow you to find the frequency of an arbitrary character in a text snippet.\n",
        "6. The function should take as input a text snippet and a character, and return the frequency of that character in the text snippet.\n",
        "7. Use a `for` loop to iterate over the characters in the text snippet.\n",
        "8. If a character is equal to the input character, increment its count.\n",
        "\n",
        "Example:\n",
        "\n",
        "```python\n",
        "text = 'This is an example text'\n",
        "print(vowel_frequency(text))  # {'a': 2, 'e': 3, 'i': 2, 'o': 0, 'u': 0}\n",
        "print(char_frequency(text, 'x'))  # 1\n",
        "```\n",
        "\n",
        "Define two functions: `vowel_frequency` and `char_frequency`. The `vowel_frequency` function takes as input a text snippet and returns a dictionary with the frequency of each vowel. It uses a `for` loop to iterate over the characters in the text snippet and increments the count of each vowel in the dictionary.\n",
        "\n",
        "The `char_frequency` function takes as input a text snippet and a character, and returns the frequency of that character in the text snippet. It uses a `for` loop to iterate over the characters in the text snippet and increments the count of the input character.\n",
        "\n",
        "Write two separate modules for `vowel_frequency` and `char_frequency`.\n",
        "\n",
        "Pass the string (user input) in another module (your main module). When the user has enetered the text in small caps, change all the text to large caps as the first thing you want this code to do. Then only the functions in   `vowel_frequency` should be implememnted and return a dictionary with the frequency of each vowel. Implement `\"_ _name__\"` in your modules to make this work.\n",
        "```python\n",
        "# vowel_frequency.py\n",
        "def vowel_frequency(text):\n",
        "\n",
        "\n",
        "\n",
        "# char_frequency.py\n",
        "def char_frequency(text, character):\n",
        "\n",
        "\n",
        "\n",
        "# main.py\n",
        "import vowel_frequency\n",
        "import char_frequency\n",
        "\n",
        "if __name__ == '__main__':\n",
        "    text = input('Enter text: ').upper()\n",
        "    print(vowel_frequency.vowel_frequency(text))\n",
        "```\n",
        "\n",
        "Show the results of Running the script directly(On local Command line)  vs importing the module here uisng procedure form Invert Module.\n"
      ],
      "metadata": {
        "id": "9CiAHCNouBtX"
      }
    },
    {
      "cell_type": "code",
      "source": [
        "# write your code here:\n",
        "\n",
        "\n",
        "text = 'This is an example text'\n",
        "# print(vowel_frequency(text))  # {'a': 2, 'e': 3, 'i': 2, 'o': 0, 'u': 0}\n",
        "# print(char_frequency(text, 'x'))  # 1\n",
        "\n",
        "\n",
        "\n",
        "\n"
      ],
      "metadata": {
        "id": "TFzFs1tFuBKv"
      },
      "execution_count": null,
      "outputs": []
    },
    {
      "cell_type": "code",
      "source": [],
      "metadata": {
        "id": "k5dxOOZe11xv"
      },
      "execution_count": null,
      "outputs": []
    },
    {
      "cell_type": "markdown",
      "source": [
        "\n",
        "\n",
        "# Exercise: Mario's Triangles\n",
        "\n",
        "1. Write a function, `mario`, which will allow us to print Mario's triangles.\n",
        "2. Ask the user to enter a string in one line (e.g., `'abc'`).\n",
        "3. Use the length of the string to determine the height of the triangle.\n",
        "4. For each row of the triangle, print spaces followed by characters from the input string. The number of spaces should decrease by 1 for each row, while the number of characters should increase by 1 for each row.\n",
        "5. If the length of the input string is even, add an asterisk (`*`) at the top of the pyramid.\n",
        "\n",
        "Example:\n",
        "\n",
        "    mario()\n",
        "\n",
        "    \n",
        "    Enter a string: obaid\n",
        "        o\n",
        "       bob\n",
        "      aboba\n",
        "     iabobai\n",
        "    diabobaid\n",
        "\n",
        "Hints/reminders:\n",
        "1. You can use a `for` loop to iterate over the rows of the triangle.\n",
        "2. You can use the `*` operator to repeat a string a certain number of times (e.g., `' ' * 3` will produce `'   '`).\n",
        "3. You can use slicing to extract a substring from the input string (e.g., `'abc'[1:3]` will produce `'bc'`).\n",
        "\n",
        "\n"
      ],
      "metadata": {
        "id": "c6Zr-RZuiz9N"
      }
    },
    {
      "cell_type": "code",
      "source": [
        "# write your code here:\n",
        "\n",
        "\n",
        "\n"
      ],
      "metadata": {
        "id": "4xQtMHMriySf"
      },
      "execution_count": null,
      "outputs": []
    },
    {
      "cell_type": "markdown",
      "source": [
        "\n",
        "\n",
        "# Exercise: List Manipulation\n",
        "\n",
        "1. Write a function, `list_manipulation`, which will allow us to perform some simple list manipulations.\n",
        "2. Ask the user to enter a list of integers separated by spaces (e.g., `'1 2 3 4'`).\n",
        "3. Use `str.split` to break that input into a list of integers.\n",
        "4. Ask the user to enter an integer `n`.\n",
        "5. Use a `for` loop to iterate over the elements of the list.\n",
        "6. If an element is divisible by `n`, remove it from the list.\n",
        "7. Print the resulting list.\n",
        "\n",
        "Example:\n",
        "\n",
        "    list_manipulation()\n",
        "\n",
        "    Enter a list of integers: 1 2 3 4\n",
        "    Enter an integer: 2\n",
        "    [1, 3]\n",
        "\n",
        "Hints/reminders:\n",
        "1. Any string can be split on whitespace with `s.split()` -- no argument means that we'll split on any whitespace, of any length.\n",
        "2. Remember that the result of `str.split` is a list of strings.\n",
        "3. If you need to turn a string into an integer, use `int`.\n",
        "4. You can use the `remove` method to remove an element from a list.\n",
        "5. You can use the `%` operator to check if a number is divisible by another number (e.g., `4 % 2 == 0` means that 4 is divisible by 2).\n",
        "\n"
      ],
      "metadata": {
        "id": "YQN0iDJUll9y"
      }
    },
    {
      "cell_type": "code",
      "source": [
        "# write your code here:\n",
        "\n",
        "\n"
      ],
      "metadata": {
        "id": "pnoDpvO4jQtb"
      },
      "execution_count": null,
      "outputs": []
    },
    {
      "cell_type": "markdown",
      "source": [
        "\n",
        "\n",
        "# Exercise: Depth First Search\n",
        "\n",
        "1. Write a function, `dfs`, which will allow you to perform a depth first search on a graph.\n",
        "2. The function should take as input a graph represented as an adjacency list, a starting node, and a target node.\n",
        "3. Use a `for` loop to iterate over the neighbors of the current node.\n",
        "4. If a neighbor has not been visited, mark it as visited and recursively call the `dfs` function on that neighbor.\n",
        "5. If the target node is found, return `True`. Otherwise, return `False`.\n",
        "6. Write another function, `input_graph`, which will allow you to input a graph from the user. The function should prompt the user to enter the number of nodes, the number of edges, and then each edge as a pair of nodes.\n",
        "\n",
        "Example:\n",
        "\n",
        "```\n",
        "Graph:\n",
        "    A\n",
        "   / \\\n",
        "  B   C\n",
        " / \\   \\\n",
        "D   E   F\n",
        "\n",
        "Adjacency list:\n",
        "{\n",
        "    'A': ['B', 'C'],\n",
        "    'B': ['D', 'E'],\n",
        "    'C': ['F'],\n",
        "    'D': [],\n",
        "    'E': [],\n",
        "    'F': []\n",
        "}\n",
        "\n",
        "DFS order: A, B, D, E, C, F\n",
        "```\n",
        "\n",
        "In this example, we have a graph with six nodes: `A`, `B`, `C`, `D`, `E`, and `F`. The edges between the nodes are represented by lines connecting them. The adjacency list representation of this graph is shown as a dictionary, where each key is a node and its value is a list of its neighbors.\n",
        "\n",
        "If we start the DFS algorithm at node `A`, we will first visit node `B` (since it is the first neighbor of `A`), then node `D` (since it is the first neighbor of `B`), then node `E` (since it is the second neighbor of `B`), then node `C` (since it is the second neighbor of `A`), and finally node `F` (since it is the only neighbor of `C`). The order in which the nodes are visited is `A`, `B`, `D`, `E`, `C`, `F`.\n",
        "\n",
        " Write two functions: `dfs` and `input_graph`. The `dfs` function should implement the DFS algorithm on a graph represented as an adjacency list. The function should take as input the graph, a starting node, and a target node. It should use a `for` loop to iterate over the neighbors of the current node and recursively call itself on any unvisited neighbors. If the target node is found, the function should return `True`. Otherwise, it should return `False`.\n",
        "\n",
        "The `input_graph` function should allow you to input a graph from the user. The function should prompt the user to enter the number of nodes and edges in the graph, and then each edge as a pair of nodes. You can use this function to create an adjacency list representation of the graph that can be passed to the `dfs` function.\n",
        "\n"
      ],
      "metadata": {
        "id": "8ph1o_7Yov8-"
      }
    },
    {
      "cell_type": "markdown",
      "source": [
        "\n",
        "\n",
        "Here's an example of what the output should look like\n",
        "\n",
        "```\n",
        "Enter the number of nodes: 6\n",
        "Enter the number of edges: 5\n",
        "Enter an edge (u v): A B\n",
        "Enter an edge (u v): A C\n",
        "Enter an edge (u v): B D\n",
        "Enter an edge (u v): B E\n",
        "Enter an edge (u v): C F\n",
        "Enter the starting node: A\n",
        "Enter the target node: F\n",
        "['A', 'B', 'D', 'E', 'C', 'F']\n",
        "```\n",
        "\n",
        "\n",
        "\n"
      ],
      "metadata": {
        "id": "PaR3b1nVq_hm"
      }
    },
    {
      "cell_type": "code",
      "source": [
        "def dfs(graph, current, target, visited=None, path=None):\n",
        "\n",
        "    # function here\n",
        "\n",
        "\n",
        "def input_graph():\n",
        "    #  function here\n",
        "\n",
        "\n",
        "\n",
        "# graph = input_graph()\n",
        "# start = input('Enter the starting node: ')\n",
        "# target = input('Enter the target node: ')\n",
        "# result = dfs(graph, start, target)\n",
        "# if result:\n",
        "#     print(result)\n",
        "# else:\n",
        "#     print(\"No path\")\n"
      ],
      "metadata": {
        "id": "OW_m71Mel6oJ"
      },
      "execution_count": null,
      "outputs": []
    }
  ]
}